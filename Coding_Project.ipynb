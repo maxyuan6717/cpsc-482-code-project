{
 "cells": [
  {
   "cell_type": "code",
   "execution_count": null,
   "metadata": {},
   "outputs": [],
   "source": [
    "import torch\n",
    "from torch.utils.data import DataLoader, TensorDataset\n",
    "import pandas as pd\n",
    "import json\n",
    "import re\n",
    "from datetime import datetime\n",
    "from string import punctuation\n",
    "import numpy as np\n",
    "from collections import Counter\n",
    "import matplotlib.pyplot as plt\n",
    "import random\n",
    "import torch.nn as nn\n",
    "%matplotlib inline"
   ]
  },
  {
   "cell_type": "code",
   "execution_count": 9,
   "metadata": {},
   "outputs": [],
   "source": [
    "raw_data_file_path = \"./ratebeer.json\""
   ]
  },
  {
   "cell_type": "code",
   "execution_count": 92,
   "metadata": {},
   "outputs": [],
   "source": [
    "# initial pass at fixing data\n",
    "f = open(raw_data_file_path)\n",
    "s = f.read()\n",
    "s = s.replace('\"', \"'\")\n",
    "s = s.replace(\"\\\\\", \"\")\n",
    "s = re.sub(r\"'([a-zA-Z0-9\\/]+)':( ')\", r'\"\\1\":\\2', s)\n",
    "s = re.sub(r\": '(.*?)'(, \\\"|})\", r': \"\\1\"\\2', s)\n",
    "s = s.replace(\"}\", \"},\")\n",
    "s = \"[\" + s + \"]\""
   ]
  },
  {
   "cell_type": "code",
   "execution_count": 93,
   "metadata": {},
   "outputs": [],
   "source": [
    "# edge cases\n",
    "index1 = 1211756778\n",
    "sus = 5\n",
    "s = s[0:index1-sus] + \"'\" + s[index1-sus+1:]\n",
    "index2 = 1211757555\n",
    "sus = 3\n",
    "s = s[0:index2-sus] + '\"' + s[index2-sus+1:]\n",
    "index3 = 1931627431\n",
    "sus = 2\n",
    "s = s[0:index3-sus] + s[index3-sus+1:]"
   ]
  },
  {
   "cell_type": "code",
   "execution_count": 90,
   "metadata": {},
   "outputs": [],
   "source": [
    "data = json.loads(s)"
   ]
  },
  {
   "cell_type": "code",
   "execution_count": 91,
   "metadata": {},
   "outputs": [],
   "source": [
    "# save as new json file\n",
    "json_object = json.dumps(data, indent=4)\n",
    "with open(\"./beer_data.json\", \"w\") as outfile:\n",
    "    outfile.write(json_object)"
   ]
  },
  {
   "cell_type": "code",
   "execution_count": 401,
   "metadata": {},
   "outputs": [],
   "source": [
    "data_file_path = './beer_data.json'\n",
    "df_full = pd.read_json(data_file_path)"
   ]
  },
  {
   "cell_type": "code",
   "execution_count": 404,
   "metadata": {},
   "outputs": [],
   "source": [
    "def eval_expr(expr):\n",
    "    try:\n",
    "        return eval(expr)\n",
    "    except:\n",
    "        return -1"
   ]
  },
  {
   "cell_type": "code",
   "execution_count": 405,
   "metadata": {},
   "outputs": [],
   "source": [
    "df_full['appearance'] = df_full.apply(lambda row : eval_expr(row['review/appearance']), axis=1)\n",
    "df_full['aroma'] = df_full.apply(lambda row : eval_expr(row['review/aroma']), axis=1)\n",
    "df_full['palate'] = df_full.apply(lambda row : eval_expr(row['review/palate']), axis=1)\n",
    "df_full['taste'] = df_full.apply(lambda row : eval_expr(row['review/taste']), axis=1)\n",
    "df_full['overall'] = df_full.apply(lambda row : eval_expr(row['review/overall']), axis=1)"
   ]
  },
  {
   "cell_type": "code",
   "execution_count": 409,
   "metadata": {},
   "outputs": [],
   "source": [
    "df_full = df_full[(df_full['overall'] >= 0) & (df_full['beer/ABV'] != '-')]"
   ]
  },
  {
   "cell_type": "code",
   "execution_count": 560,
   "metadata": {},
   "outputs": [],
   "source": [
    "df_full = df_full.reset_index(drop=True)"
   ]
  },
  {
   "cell_type": "code",
   "execution_count": 410,
   "metadata": {},
   "outputs": [],
   "source": [
    "beer_names = df_full['beer/name'].unique()\n",
    "beer_styles = df_full['beer/style'].unique()\n",
    "beer_style_index = dict(zip(beer_styles, range(len(beer_styles))))"
   ]
  },
  {
   "cell_type": "code",
   "execution_count": 411,
   "metadata": {},
   "outputs": [
    {
     "name": "stderr",
     "output_type": "stream",
     "text": [
      "/Users/maxyuan/opt/anaconda3/lib/python3.7/site-packages/ipykernel_launcher.py:1: SettingWithCopyWarning: \n",
      "A value is trying to be set on a copy of a slice from a DataFrame.\n",
      "Try using .loc[row_indexer,col_indexer] = value instead\n",
      "\n",
      "See the caveats in the documentation: http://pandas.pydata.org/pandas-docs/stable/user_guide/indexing.html#returning-a-view-versus-a-copy\n",
      "  \"\"\"Entry point for launching an IPython kernel.\n",
      "/Users/maxyuan/opt/anaconda3/lib/python3.7/site-packages/ipykernel_launcher.py:2: SettingWithCopyWarning: \n",
      "A value is trying to be set on a copy of a slice from a DataFrame.\n",
      "Try using .loc[row_indexer,col_indexer] = value instead\n",
      "\n",
      "See the caveats in the documentation: http://pandas.pydata.org/pandas-docs/stable/user_guide/indexing.html#returning-a-view-versus-a-copy\n",
      "  \n"
     ]
    }
   ],
   "source": [
    "df_full['abv'] = df_full.apply(lambda row: float(row['beer/ABV']), axis=1)\n",
    "df_full['style'] = df_full.apply(lambda row: beer_style_index[row['beer/style']], axis=1)"
   ]
  },
  {
   "cell_type": "code",
   "execution_count": 561,
   "metadata": {},
   "outputs": [],
   "source": [
    "positive_rating = df_full[df_full['overall'] > 0.5]\n",
    "negative_rating = df_full[df_full['overall'] <= 0.5]\n",
    "\n",
    "high_rating = df_full[df_full['overall'] > 0.7]\n",
    "med_rating = df_full[(df_full['overall'] >= 0.4) & (df_full['overall'] <= 0.7)]\n",
    "low_rating = df_full[df_full['overall'] < 0.4]"
   ]
  },
  {
   "cell_type": "code",
   "execution_count": 562,
   "metadata": {},
   "outputs": [
    {
     "name": "stdout",
     "output_type": "stream",
     "text": [
      "2299884\n",
      "485642\n",
      "1100450\n",
      "1501568\n",
      "183508\n"
     ]
    }
   ],
   "source": [
    "print(len(positive_rating.index))\n",
    "print(len(negative_rating.index))\n",
    "\n",
    "print(len(high_rating.index))\n",
    "print(len(med_rating.index))\n",
    "print(len(low_rating.index))"
   ]
  },
  {
   "cell_type": "code",
   "execution_count": 582,
   "metadata": {},
   "outputs": [],
   "source": [
    "NUM_SAMPLES = 18000\n",
    "NUM_SAMPELS_WITH_PADDING = NUM_SAMPLES + 300 # we remove empty removes later so this allows for that\n",
    "positive_indices = random.sample(positive_rating.index.tolist(), int(NUM_SAMPELS_WITH_PADDING / 2))\n",
    "negative_indices = random.sample(negative_rating.index.tolist(), int(NUM_SAMPELS_WITH_PADDING / 2))\n",
    "\n",
    "high_indices = random.sample(high_rating.index.tolist(), int(NUM_SAMPELS_WITH_PADDING / 3))\n",
    "med_indices = random.sample(med_rating.index.tolist(), int(NUM_SAMPELS_WITH_PADDING / 3))\n",
    "low_indices = random.sample(low_rating.index.tolist(), int(NUM_SAMPELS_WITH_PADDING / 3))"
   ]
  },
  {
   "cell_type": "code",
   "execution_count": 583,
   "metadata": {},
   "outputs": [],
   "source": [
    "rows_b = positive_indices + negative_indices\n",
    "rows_t = high_indices + med_indices +low_indices"
   ]
  },
  {
   "cell_type": "code",
   "execution_count": 584,
   "metadata": {},
   "outputs": [],
   "source": [
    "df_b = df_full.iloc[rows_b]\n",
    "df_t = df_full.iloc[rows_t]"
   ]
  },
  {
   "cell_type": "code",
   "execution_count": 585,
   "metadata": {
    "scrolled": true
   },
   "outputs": [
    {
     "name": "stdout",
     "output_type": "stream",
     "text": [
      "(18300, 20)\n"
     ]
    },
    {
     "data": {
      "text/html": [
       "<div>\n",
       "<style scoped>\n",
       "    .dataframe tbody tr th:only-of-type {\n",
       "        vertical-align: middle;\n",
       "    }\n",
       "\n",
       "    .dataframe tbody tr th {\n",
       "        vertical-align: top;\n",
       "    }\n",
       "\n",
       "    .dataframe thead th {\n",
       "        text-align: right;\n",
       "    }\n",
       "</style>\n",
       "<table border=\"1\" class=\"dataframe\">\n",
       "  <thead>\n",
       "    <tr style=\"text-align: right;\">\n",
       "      <th></th>\n",
       "      <th>beer/name</th>\n",
       "      <th>beer/beerId</th>\n",
       "      <th>beer/brewerId</th>\n",
       "      <th>beer/ABV</th>\n",
       "      <th>beer/style</th>\n",
       "      <th>review/appearance</th>\n",
       "      <th>review/aroma</th>\n",
       "      <th>review/palate</th>\n",
       "      <th>review/taste</th>\n",
       "      <th>review/overall</th>\n",
       "      <th>review/time</th>\n",
       "      <th>review/profileName</th>\n",
       "      <th>review/text</th>\n",
       "      <th>appearance</th>\n",
       "      <th>aroma</th>\n",
       "      <th>palate</th>\n",
       "      <th>taste</th>\n",
       "      <th>overall</th>\n",
       "      <th>abv</th>\n",
       "      <th>style</th>\n",
       "    </tr>\n",
       "  </thead>\n",
       "  <tbody>\n",
       "    <tr>\n",
       "      <td>1715141</td>\n",
       "      <td>Bells Oberon Ale</td>\n",
       "      <td>3211</td>\n",
       "      <td>232.0</td>\n",
       "      <td>6</td>\n",
       "      <td>Wheat Ale</td>\n",
       "      <td>5/5</td>\n",
       "      <td>7/10</td>\n",
       "      <td>4/5</td>\n",
       "      <td>8/10</td>\n",
       "      <td>15/20</td>\n",
       "      <td>1.038096e+09</td>\n",
       "      <td>Andrew196</td>\n",
       "      <td>Probably the best wheat beer I have had in a l...</td>\n",
       "      <td>1.0</td>\n",
       "      <td>0.7</td>\n",
       "      <td>0.8</td>\n",
       "      <td>0.8</td>\n",
       "      <td>0.75</td>\n",
       "      <td>6.0</td>\n",
       "      <td>21</td>\n",
       "    </tr>\n",
       "    <tr>\n",
       "      <td>672442</td>\n",
       "      <td>Ridgeway Foreign Export Stout</td>\n",
       "      <td>70803</td>\n",
       "      <td>1265.0</td>\n",
       "      <td>8</td>\n",
       "      <td>Foreign Stout</td>\n",
       "      <td>4/5</td>\n",
       "      <td>6/10</td>\n",
       "      <td>3/5</td>\n",
       "      <td>6/10</td>\n",
       "      <td>13/20</td>\n",
       "      <td>1.200874e+09</td>\n",
       "      <td>MesandSim</td>\n",
       "      <td>UPDATED: AUG 28, 2008 A Mes rate: Bottle at my...</td>\n",
       "      <td>0.8</td>\n",
       "      <td>0.6</td>\n",
       "      <td>0.6</td>\n",
       "      <td>0.6</td>\n",
       "      <td>0.65</td>\n",
       "      <td>8.0</td>\n",
       "      <td>69</td>\n",
       "    </tr>\n",
       "    <tr>\n",
       "      <td>631026</td>\n",
       "      <td>Cigar City Extra Sour Guava Grove</td>\n",
       "      <td>136408</td>\n",
       "      <td>9990.0</td>\n",
       "      <td>8</td>\n",
       "      <td>Sour Ale/Wild Ale</td>\n",
       "      <td>3/5</td>\n",
       "      <td>7/10</td>\n",
       "      <td>3/5</td>\n",
       "      <td>8/10</td>\n",
       "      <td>15/20</td>\n",
       "      <td>1.324598e+09</td>\n",
       "      <td>sebletitje</td>\n",
       "      <td>Entering old rates. Bottle shared with Wayne @...</td>\n",
       "      <td>0.6</td>\n",
       "      <td>0.7</td>\n",
       "      <td>0.6</td>\n",
       "      <td>0.8</td>\n",
       "      <td>0.75</td>\n",
       "      <td>8.0</td>\n",
       "      <td>23</td>\n",
       "    </tr>\n",
       "    <tr>\n",
       "      <td>1537341</td>\n",
       "      <td>Victory Dark Intrigue</td>\n",
       "      <td>132106</td>\n",
       "      <td>101.0</td>\n",
       "      <td>9.1</td>\n",
       "      <td>Imperial Stout</td>\n",
       "      <td>4/5</td>\n",
       "      <td>7/10</td>\n",
       "      <td>4/5</td>\n",
       "      <td>7/10</td>\n",
       "      <td>15/20</td>\n",
       "      <td>1.303085e+09</td>\n",
       "      <td>Fin</td>\n",
       "      <td>Bottle at Jan &amp; Charlottes tasting, Ulfborg,...</td>\n",
       "      <td>0.8</td>\n",
       "      <td>0.7</td>\n",
       "      <td>0.8</td>\n",
       "      <td>0.7</td>\n",
       "      <td>0.75</td>\n",
       "      <td>9.1</td>\n",
       "      <td>13</td>\n",
       "    </tr>\n",
       "    <tr>\n",
       "      <td>1062334</td>\n",
       "      <td>Founders Double Trouble IPA</td>\n",
       "      <td>67360</td>\n",
       "      <td>554.0</td>\n",
       "      <td>9.4</td>\n",
       "      <td>Imperial/Double IPA</td>\n",
       "      <td>4/5</td>\n",
       "      <td>8/10</td>\n",
       "      <td>4/5</td>\n",
       "      <td>8/10</td>\n",
       "      <td>17/20</td>\n",
       "      <td>1.241309e+09</td>\n",
       "      <td>ApisAles</td>\n",
       "      <td>Really solid IPA.  Had it on tap at RFD in D.C...</td>\n",
       "      <td>0.8</td>\n",
       "      <td>0.8</td>\n",
       "      <td>0.8</td>\n",
       "      <td>0.8</td>\n",
       "      <td>0.85</td>\n",
       "      <td>9.4</td>\n",
       "      <td>7</td>\n",
       "    </tr>\n",
       "  </tbody>\n",
       "</table>\n",
       "</div>"
      ],
      "text/plain": [
       "                                 beer/name beer/beerId  beer/brewerId  \\\n",
       "1715141                   Bells Oberon Ale        3211          232.0   \n",
       "672442       Ridgeway Foreign Export Stout       70803         1265.0   \n",
       "631026   Cigar City Extra Sour Guava Grove      136408         9990.0   \n",
       "1537341              Victory Dark Intrigue      132106          101.0   \n",
       "1062334        Founders Double Trouble IPA       67360          554.0   \n",
       "\n",
       "        beer/ABV           beer/style review/appearance review/aroma  \\\n",
       "1715141        6            Wheat Ale               5/5         7/10   \n",
       "672442         8        Foreign Stout               4/5         6/10   \n",
       "631026         8    Sour Ale/Wild Ale               3/5         7/10   \n",
       "1537341      9.1       Imperial Stout               4/5         7/10   \n",
       "1062334      9.4  Imperial/Double IPA               4/5         8/10   \n",
       "\n",
       "        review/palate review/taste review/overall   review/time  \\\n",
       "1715141           4/5         8/10          15/20  1.038096e+09   \n",
       "672442            3/5         6/10          13/20  1.200874e+09   \n",
       "631026            3/5         8/10          15/20  1.324598e+09   \n",
       "1537341           4/5         7/10          15/20  1.303085e+09   \n",
       "1062334           4/5         8/10          17/20  1.241309e+09   \n",
       "\n",
       "        review/profileName                                        review/text  \\\n",
       "1715141          Andrew196  Probably the best wheat beer I have had in a l...   \n",
       "672442           MesandSim  UPDATED: AUG 28, 2008 A Mes rate: Bottle at my...   \n",
       "631026          sebletitje  Entering old rates. Bottle shared with Wayne @...   \n",
       "1537341                Fin    Bottle at Jan & Charlottes tasting, Ulfborg,...   \n",
       "1062334           ApisAles  Really solid IPA.  Had it on tap at RFD in D.C...   \n",
       "\n",
       "         appearance  aroma  palate  taste  overall  abv  style  \n",
       "1715141         1.0    0.7     0.8    0.8     0.75  6.0     21  \n",
       "672442          0.8    0.6     0.6    0.6     0.65  8.0     69  \n",
       "631026          0.6    0.7     0.6    0.8     0.75  8.0     23  \n",
       "1537341         0.8    0.7     0.8    0.7     0.75  9.1     13  \n",
       "1062334         0.8    0.8     0.8    0.8     0.85  9.4      7  "
      ]
     },
     "execution_count": 585,
     "metadata": {},
     "output_type": "execute_result"
    }
   ],
   "source": [
    "print(df_b.shape)\n",
    "df_b.head()"
   ]
  },
  {
   "cell_type": "code",
   "execution_count": 586,
   "metadata": {},
   "outputs": [
    {
     "name": "stdout",
     "output_type": "stream",
     "text": [
      "(18300, 20)\n"
     ]
    },
    {
     "data": {
      "text/html": [
       "<div>\n",
       "<style scoped>\n",
       "    .dataframe tbody tr th:only-of-type {\n",
       "        vertical-align: middle;\n",
       "    }\n",
       "\n",
       "    .dataframe tbody tr th {\n",
       "        vertical-align: top;\n",
       "    }\n",
       "\n",
       "    .dataframe thead th {\n",
       "        text-align: right;\n",
       "    }\n",
       "</style>\n",
       "<table border=\"1\" class=\"dataframe\">\n",
       "  <thead>\n",
       "    <tr style=\"text-align: right;\">\n",
       "      <th></th>\n",
       "      <th>beer/name</th>\n",
       "      <th>beer/beerId</th>\n",
       "      <th>beer/brewerId</th>\n",
       "      <th>beer/ABV</th>\n",
       "      <th>beer/style</th>\n",
       "      <th>review/appearance</th>\n",
       "      <th>review/aroma</th>\n",
       "      <th>review/palate</th>\n",
       "      <th>review/taste</th>\n",
       "      <th>review/overall</th>\n",
       "      <th>review/time</th>\n",
       "      <th>review/profileName</th>\n",
       "      <th>review/text</th>\n",
       "      <th>appearance</th>\n",
       "      <th>aroma</th>\n",
       "      <th>palate</th>\n",
       "      <th>taste</th>\n",
       "      <th>overall</th>\n",
       "      <th>abv</th>\n",
       "      <th>style</th>\n",
       "    </tr>\n",
       "  </thead>\n",
       "  <tbody>\n",
       "    <tr>\n",
       "      <td>1688104</td>\n",
       "      <td>Bells Java Stout</td>\n",
       "      <td>10338</td>\n",
       "      <td>232.0</td>\n",
       "      <td>7.5</td>\n",
       "      <td>Stout</td>\n",
       "      <td>4/5</td>\n",
       "      <td>9/10</td>\n",
       "      <td>5/5</td>\n",
       "      <td>8/10</td>\n",
       "      <td>15/20</td>\n",
       "      <td>1.214266e+09</td>\n",
       "      <td>lunchbox582</td>\n",
       "      <td>12 oz bought from the brewery in a mixed sixer...</td>\n",
       "      <td>0.8</td>\n",
       "      <td>0.9</td>\n",
       "      <td>1.0</td>\n",
       "      <td>0.8</td>\n",
       "      <td>0.75</td>\n",
       "      <td>7.5</td>\n",
       "      <td>16</td>\n",
       "    </tr>\n",
       "    <tr>\n",
       "      <td>330058</td>\n",
       "      <td>Pinkus Hefe Weizen</td>\n",
       "      <td>4552</td>\n",
       "      <td>742.0</td>\n",
       "      <td>5</td>\n",
       "      <td>German Hefeweizen</td>\n",
       "      <td>4/5</td>\n",
       "      <td>8/10</td>\n",
       "      <td>4/5</td>\n",
       "      <td>8/10</td>\n",
       "      <td>17/20</td>\n",
       "      <td>1.012349e+09</td>\n",
       "      <td>wheatbeerboy</td>\n",
       "      <td>A really different tasting hefeweizen. I could...</td>\n",
       "      <td>0.8</td>\n",
       "      <td>0.8</td>\n",
       "      <td>0.8</td>\n",
       "      <td>0.8</td>\n",
       "      <td>0.85</td>\n",
       "      <td>5.0</td>\n",
       "      <td>30</td>\n",
       "    </tr>\n",
       "    <tr>\n",
       "      <td>1792395</td>\n",
       "      <td>Leelanau Whaleback White</td>\n",
       "      <td>49308</td>\n",
       "      <td>4923.0</td>\n",
       "      <td>5.2</td>\n",
       "      <td>Belgian White &amp;#40;Witbier&amp;#41;</td>\n",
       "      <td>4/5</td>\n",
       "      <td>7/10</td>\n",
       "      <td>4/5</td>\n",
       "      <td>8/10</td>\n",
       "      <td>16/20</td>\n",
       "      <td>1.168992e+09</td>\n",
       "      <td>thebaldwizard</td>\n",
       "      <td>Shared at C-bus tasting 5.  I wish all Wits ta...</td>\n",
       "      <td>0.8</td>\n",
       "      <td>0.7</td>\n",
       "      <td>0.8</td>\n",
       "      <td>0.8</td>\n",
       "      <td>0.80</td>\n",
       "      <td>5.2</td>\n",
       "      <td>36</td>\n",
       "    </tr>\n",
       "    <tr>\n",
       "      <td>1114182</td>\n",
       "      <td>Sierra Nevada Hoptimum</td>\n",
       "      <td>117825</td>\n",
       "      <td>67.0</td>\n",
       "      <td>10.4</td>\n",
       "      <td>Imperial/Double IPA</td>\n",
       "      <td>4/5</td>\n",
       "      <td>7/10</td>\n",
       "      <td>4/5</td>\n",
       "      <td>7/10</td>\n",
       "      <td>16/20</td>\n",
       "      <td>1.284422e+09</td>\n",
       "      <td>JohnnyJ</td>\n",
       "      <td>Draft at the brewery.  Golden amber pour, whit...</td>\n",
       "      <td>0.8</td>\n",
       "      <td>0.7</td>\n",
       "      <td>0.8</td>\n",
       "      <td>0.7</td>\n",
       "      <td>0.80</td>\n",
       "      <td>10.4</td>\n",
       "      <td>7</td>\n",
       "    </tr>\n",
       "    <tr>\n",
       "      <td>1008245</td>\n",
       "      <td>Samuel Adams Imperial Series Double Bock</td>\n",
       "      <td>96144</td>\n",
       "      <td>32.0</td>\n",
       "      <td>9.5</td>\n",
       "      <td>Doppelbock</td>\n",
       "      <td>3/5</td>\n",
       "      <td>7/10</td>\n",
       "      <td>3/5</td>\n",
       "      <td>7/10</td>\n",
       "      <td>16/20</td>\n",
       "      <td>1.236384e+09</td>\n",
       "      <td>emacgee</td>\n",
       "      <td>Pours a dark ruby copper with a thin light tan...</td>\n",
       "      <td>0.6</td>\n",
       "      <td>0.7</td>\n",
       "      <td>0.6</td>\n",
       "      <td>0.7</td>\n",
       "      <td>0.80</td>\n",
       "      <td>9.5</td>\n",
       "      <td>38</td>\n",
       "    </tr>\n",
       "  </tbody>\n",
       "</table>\n",
       "</div>"
      ],
      "text/plain": [
       "                                        beer/name beer/beerId  beer/brewerId  \\\n",
       "1688104                          Bells Java Stout       10338          232.0   \n",
       "330058                         Pinkus Hefe Weizen        4552          742.0   \n",
       "1792395                  Leelanau Whaleback White       49308         4923.0   \n",
       "1114182                    Sierra Nevada Hoptimum      117825           67.0   \n",
       "1008245  Samuel Adams Imperial Series Double Bock       96144           32.0   \n",
       "\n",
       "        beer/ABV                       beer/style review/appearance  \\\n",
       "1688104      7.5                            Stout               4/5   \n",
       "330058         5                German Hefeweizen               4/5   \n",
       "1792395      5.2  Belgian White &#40;Witbier&#41;               4/5   \n",
       "1114182     10.4              Imperial/Double IPA               4/5   \n",
       "1008245      9.5                       Doppelbock               3/5   \n",
       "\n",
       "        review/aroma review/palate review/taste review/overall   review/time  \\\n",
       "1688104         9/10           5/5         8/10          15/20  1.214266e+09   \n",
       "330058          8/10           4/5         8/10          17/20  1.012349e+09   \n",
       "1792395         7/10           4/5         8/10          16/20  1.168992e+09   \n",
       "1114182         7/10           4/5         7/10          16/20  1.284422e+09   \n",
       "1008245         7/10           3/5         7/10          16/20  1.236384e+09   \n",
       "\n",
       "        review/profileName                                        review/text  \\\n",
       "1688104        lunchbox582  12 oz bought from the brewery in a mixed sixer...   \n",
       "330058        wheatbeerboy  A really different tasting hefeweizen. I could...   \n",
       "1792395      thebaldwizard  Shared at C-bus tasting 5.  I wish all Wits ta...   \n",
       "1114182            JohnnyJ  Draft at the brewery.  Golden amber pour, whit...   \n",
       "1008245            emacgee  Pours a dark ruby copper with a thin light tan...   \n",
       "\n",
       "         appearance  aroma  palate  taste  overall   abv  style  \n",
       "1688104         0.8    0.9     1.0    0.8     0.75   7.5     16  \n",
       "330058          0.8    0.8     0.8    0.8     0.85   5.0     30  \n",
       "1792395         0.8    0.7     0.8    0.8     0.80   5.2     36  \n",
       "1114182         0.8    0.7     0.8    0.7     0.80  10.4      7  \n",
       "1008245         0.6    0.7     0.6    0.7     0.80   9.5     38  "
      ]
     },
     "execution_count": 586,
     "metadata": {},
     "output_type": "execute_result"
    }
   ],
   "source": [
    "print(df_t.shape)\n",
    "df_t.head()"
   ]
  },
  {
   "cell_type": "code",
   "execution_count": 587,
   "metadata": {},
   "outputs": [],
   "source": [
    "reviews_b = df_b['review/text'].values.tolist()\n",
    "reviews_b = [review.translate(str.maketrans('','',punctuation)).lower() for review in reviews_b]\n",
    "\n",
    "reviews_t = df_t['review/text'].values.tolist()\n",
    "reviews_t = [review.translate(str.maketrans('','',punctuation)).lower() for review in reviews_t]"
   ]
  },
  {
   "cell_type": "code",
   "execution_count": 588,
   "metadata": {},
   "outputs": [],
   "source": [
    "all_reviews_b = ' '.join(reviews_b)\n",
    "words_b = all_reviews_b.split()\n",
    "word_to_count_b = Counter(words_b)\n",
    "words_sorted_b = word_to_count_b.most_common(len(words_b))\n",
    "word_to_index_b = {word:index+1 for index, (word,count) in enumerate(words_sorted_b)}\n",
    "\n",
    "all_reviews_t = ' '.join(reviews_t)\n",
    "words_t = all_reviews_t.split()\n",
    "word_to_count_t = Counter(words_t)\n",
    "words_sorted_t = word_to_count_t.most_common(len(words_t))\n",
    "word_to_index_t = {word:index+1 for index, (word,count) in enumerate(words_sorted_t)}"
   ]
  },
  {
   "cell_type": "code",
   "execution_count": 589,
   "metadata": {},
   "outputs": [],
   "source": [
    "reviews_tokenized_og_b = [[word_to_index_b[word] for word in review.split()] for review in reviews_b]\n",
    "reviews_tokenized_og_t = [[word_to_index_t[word] for word in review.split()] for review in reviews_t]"
   ]
  },
  {
   "cell_type": "code",
   "execution_count": 592,
   "metadata": {},
   "outputs": [
    {
     "name": "stdout",
     "output_type": "stream",
     "text": [
      "[9150, 9150]\n",
      "[6100, 6100, 6100]\n"
     ]
    }
   ],
   "source": [
    "overall_ratings_b = df_b['overall'].values.tolist()\n",
    "binary_labels_og = [1 if rating > 0.5 else 0 for rating in overall_ratings_b]\n",
    "\n",
    "overall_ratings_t = df_t['overall'].values.tolist()\n",
    "ternary_labels_og = [2 if rating > 0.7 else (0 if rating < 0.4 else 1) for rating in overall_ratings_t]\n",
    "\n",
    "print([binary_labels_og.count(x) for x in range(2)])\n",
    "print([ternary_labels_og.count(x) for x in range(3)])"
   ]
  },
  {
   "cell_type": "code",
   "execution_count": 593,
   "metadata": {},
   "outputs": [
    {
     "data": {
      "image/png": "[encoded data removed]",
      "text/plain": [
       "<Figure size 432x288 with 1 Axes>"
      ]
     },
     "metadata": {
      "needs_background": "light"
     },
     "output_type": "display_data"
    },
    {
     "data": {
      "text/plain": [
       "count    18300.000000\n",
       "mean        49.345902\n",
       "std         35.626908\n",
       "min          0.000000\n",
       "25%         27.000000\n",
       "50%         40.000000\n",
       "75%         60.000000\n",
       "max        570.000000\n",
       "dtype: float64"
      ]
     },
     "execution_count": 593,
     "metadata": {},
     "output_type": "execute_result"
    }
   ],
   "source": [
    "reviews_len_b = [len(x) for x in reviews_tokenized_og_b]\n",
    "pd.Series(reviews_len_b).hist()\n",
    "plt.show()\n",
    "pd.Series(reviews_len_b).describe()"
   ]
  },
  {
   "cell_type": "code",
   "execution_count": 594,
   "metadata": {},
   "outputs": [
    {
     "data": {
      "image/png": "[encoded data removed]",
      "text/plain": [
       "<Figure size 432x288 with 1 Axes>"
      ]
     },
     "metadata": {
      "needs_background": "light"
     },
     "output_type": "display_data"
    },
    {
     "data": {
      "text/plain": [
       "count    18300.000000\n",
       "mean        50.530929\n",
       "std         36.861034\n",
       "min          0.000000\n",
       "25%         28.000000\n",
       "50%         41.000000\n",
       "75%         62.000000\n",
       "max        655.000000\n",
       "dtype: float64"
      ]
     },
     "execution_count": 594,
     "metadata": {},
     "output_type": "execute_result"
    }
   ],
   "source": [
    "reviews_len_t = [len(x) for x in reviews_tokenized_og_t]\n",
    "pd.Series(reviews_len_t).hist()\n",
    "plt.show()\n",
    "pd.Series(reviews_len_t).describe()"
   ]
  },
  {
   "cell_type": "code",
   "execution_count": 595,
   "metadata": {},
   "outputs": [],
   "source": [
    "reviews_tokenized_og_b = [reviews_tokenized_og_b[i] for i, length in enumerate(reviews_len_b) if length > 0]\n",
    "reviews_tokenized_og_t = [reviews_tokenized_og_t[i] for i, length in enumerate(reviews_len_t) if length > 0]\n",
    "\n",
    "binary_labels_og = [binary_labels_og[i] for i, length in enumerate(reviews_len_b) if length > 0]\n",
    "ternary_labels_og = [ternary_labels_og[i] for i, length in enumerate(reviews_len_t) if length > 0]"
   ]
  },
  {
   "cell_type": "code",
   "execution_count": 596,
   "metadata": {},
   "outputs": [],
   "source": [
    "def pad_tokens(reviews, seq_length):\n",
    "    # pad beginning of tokens with 0 or truncate to seq_length\n",
    "    features = np.zeros((len(reviews), seq_length), dtype = int)\n",
    "    \n",
    "    for index, tokens in enumerate(reviews):\n",
    "        if len(tokens) != 0:\n",
    "            features[index, -(min(seq_length, len(tokens))):] = np.array(tokens)[:min(seq_lenth, len(tokens))]\n",
    "    \n",
    "    return features"
   ]
  },
  {
   "cell_type": "code",
   "execution_count": 601,
   "metadata": {},
   "outputs": [],
   "source": [
    "features_og_b = pad_features(reviews_tokenized_og_b, 200)\n",
    "features_og_t = pad_features(reviews_tokenized_og_t, 200)\n",
    "\n",
    "binary_labels_og=np.array(binary_labels_og)\n",
    "ternary_labels_og=np.array(ternary_labels_og)"
   ]
  },
  {
   "cell_type": "code",
   "execution_count": 603,
   "metadata": {},
   "outputs": [
    {
     "name": "stdout",
     "output_type": "stream",
     "text": [
      "(18000, 200)\n",
      "(18000, 200)\n",
      "(18000,)\n",
      "(18000,)\n"
     ]
    }
   ],
   "source": [
    "num_features_og_b = len(features_og_b)\n",
    "num_features_og_t = len(features_og_t)\n",
    "\n",
    "random_subset_b = random.sample(range(num_features_og_b), NUM_SAMPLES)\n",
    "random_subset_t = random.sample(range(num_features_og_t), NUM_SAMPLES)\n",
    "\n",
    "features_b = features_og_b[random_subset_b,]\n",
    "binary_labels = binary_labels_og[random_subset_b]\n",
    "\n",
    "features_t = features_og_t[random_subset_t,]\n",
    "ternary_labels = ternary_labels_og[random_subset_t]\n",
    "\n",
    "print(features_b.shape)\n",
    "print(features_t.shape)\n",
    "print(binary_labels.shape)\n",
    "print(ternary_labels.shape)"
   ]
  },
  {
   "cell_type": "code",
   "execution_count": 604,
   "metadata": {},
   "outputs": [
    {
     "name": "stdout",
     "output_type": "stream",
     "text": [
      "0.4976111111111111\n",
      "0.3298333333333333\n"
     ]
    }
   ],
   "source": [
    "print(np.mean(binary_labels==random.choices(range(2), k=len(binary_labels))))\n",
    "print(np.mean(ternary_labels==random.choices(range(3), k=len(ternary_labels))))"
   ]
  },
  {
   "cell_type": "code",
   "execution_count": 605,
   "metadata": {},
   "outputs": [],
   "source": [
    "split_frac = 0.8\n",
    "num_features = len(features)\n",
    "train_x_b = features_b[0:int(split_frac*num_features)]\n",
    "train_x_t = features_t[0:int(split_frac*num_features)]\n",
    "train_y_b = binary_labels[0:int(split_frac*num_features)]\n",
    "train_y_t = ternary_labels[0:int(split_frac*num_features)]\n",
    "\n",
    "remaining_x_b = features_b[int(split_frac*num_features):]\n",
    "remaining_x_t = features_t[int(split_frac*num_features):]\n",
    "remaining_y_b = binary_labels[int(split_frac*num_features):]\n",
    "remaining_y_t = ternary_labels[int(split_frac*num_features):]\n",
    "\n",
    "valid_x_b = remaining_x_b[0:int(len(remaining_x_b)*0.5)]\n",
    "valid_x_t = remaining_x_t[0:int(len(remaining_x_t)*0.5)]\n",
    "valid_y_b = remaining_y_b[0:int(len(remaining_y_b)*0.5)]\n",
    "valid_y_t = remaining_y_t[0:int(len(remaining_y_t)*0.5)]\n",
    "\n",
    "test_x_b = remaining_x_b[int(len(remaining_x_b)*0.5):]\n",
    "test_x_t = remaining_x_t[int(len(remaining_x_t)*0.5):]\n",
    "test_y_b = remaining_y_b[int(len(remaining_y_b)*0.5):]\n",
    "test_y_t = remaining_y_t[int(len(remaining_y_t)*0.5):]"
   ]
  },
  {
   "cell_type": "code",
   "execution_count": 606,
   "metadata": {},
   "outputs": [],
   "source": [
    "class SentimentLSTM(nn.Module):\n",
    "    # LSTM for sentiment analysis\n",
    "\n",
    "    def __init__(\n",
    "        self,\n",
    "        vocab_size,\n",
    "        output_size,\n",
    "        embedding_dim,\n",
    "        hidden_dim,\n",
    "    ):\n",
    "        \"\"\"\n",
    "        Initialize the model by setting up the layers.\n",
    "        \"\"\"\n",
    "        super().__init__()\n",
    "\n",
    "        self.output_size = output_size\n",
    "        self.hidden_dim = hidden_dim\n",
    "\n",
    "        # embedding and LSTM layers\n",
    "        self.embedding = nn.Embedding(vocab_size, embedding_dim)\n",
    "        self.lstm = nn.LSTM(\n",
    "            embedding_dim, hidden_dim, 2, dropout=0.5, batch_first=True\n",
    "        )\n",
    "\n",
    "        # dropout layer\n",
    "        self.dropout = nn.Dropout(0.3)\n",
    "\n",
    "        # fully connected linear layer\n",
    "        self.fc = nn.Linear(hidden_dim, output_size)\n",
    "        \n",
    "        # sigmoid layer for the binary sentiment analysis case\n",
    "        self.sig = nn.Sigmoid()\n",
    "        \n",
    "        # softmax layer for the ternary sentiment analysis case\n",
    "        self.softmax = nn.Softmax(dim=1)\n",
    "\n",
    "    def forward(self, x, hidden):\n",
    "        batch_size = x.size(0)\n",
    "\n",
    "        # embeddings and lstm_out\n",
    "        embeds = self.embedding(x)\n",
    "        lstm_out, hidden = self.lstm(embeds, hidden)\n",
    "\n",
    "        # stack up lstm outputs\n",
    "        lstm_out = lstm_out.contiguous().view(-1, self.hidden_dim)\n",
    "\n",
    "        # dropout and fully-connected layer\n",
    "        out = self.dropout(lstm_out)\n",
    "        out = self.fc(out)\n",
    "        # sigmoid or softmax function\n",
    "        prob_out = self.sig(out) if self.output_size == 1 else self.softmax(out)\n",
    "\n",
    "        # reshape to be batch_size as first dimension\n",
    "        if self.output_size == 1:\n",
    "            prob_out = prob_out.view(batch_size, -1)\n",
    "            prob_out = prob_out[:, -1]  # get last batch of labels\n",
    "        else:\n",
    "            prob_out = prob_out.view(batch_size, -1, self.output_size)\n",
    "            prob_out = prob_out[:, -1, :] # get last batch of labels\n",
    "        \n",
    "\n",
    "        # return last sigmoid/softmax output and hidden state\n",
    "        return prob_out, hidden\n",
    "\n",
    "    def init_hidden(self, batch_size):\n",
    "        # create 2 tensors with sizes 2 x batch_size x hidden_dim,\n",
    "        weight = next(self.parameters()).data\n",
    "\n",
    "        # initialized hidden state to 0\n",
    "        hidden = (\n",
    "            weight.new(2, batch_size, self.hidden_dim).zero_(),\n",
    "            weight.new(2, batch_size, self.hidden_dim).zero_(),\n",
    "        )\n",
    "\n",
    "        return hidden\n"
   ]
  },
  {
   "cell_type": "code",
   "execution_count": 607,
   "metadata": {},
   "outputs": [],
   "source": [
    "batch_size = 50\n",
    "# create Tensor datasets\n",
    "train_data_b = TensorDataset(torch.from_numpy(train_x_b), torch.from_numpy(train_y_b))\n",
    "valid_data_b = TensorDataset(torch.from_numpy(valid_x_b), torch.from_numpy(valid_y_b))\n",
    "test_data_b = TensorDataset(torch.from_numpy(test_x_b), torch.from_numpy(test_y_b))\n",
    "\n",
    "train_data_t = TensorDataset(torch.from_numpy(train_x_t), torch.from_numpy(train_y_t))\n",
    "valid_data_t = TensorDataset(torch.from_numpy(valid_x_t), torch.from_numpy(valid_y_t))\n",
    "test_data_t = TensorDataset(torch.from_numpy(test_x_t), torch.from_numpy(test_y_t))\n",
    "\n",
    "# dataloaders\n",
    "\n",
    "# make sure to SHUFFLE your data\n",
    "train_loader_b = DataLoader(train_data_b, shuffle=True, batch_size=batch_size)\n",
    "valid_loader_b = DataLoader(valid_data_b, shuffle=True, batch_size=batch_size)\n",
    "test_loader_b = DataLoader(test_data_b, shuffle=True, batch_size=batch_size)\n",
    "\n",
    "train_loader_t = DataLoader(train_data_t, shuffle=True, batch_size=batch_size)\n",
    "valid_loader_t = DataLoader(valid_data_t, shuffle=True, batch_size=batch_size)\n",
    "test_loader_t = DataLoader(test_data_t, shuffle=True, batch_size=batch_size)"
   ]
  },
  {
   "cell_type": "code",
   "execution_count": 608,
   "metadata": {},
   "outputs": [
    {
     "name": "stdout",
     "output_type": "stream",
     "text": [
      "SentimentLSTM(\n",
      "  (embedding): Embedding(36592, 400)\n",
      "  (lstm): LSTM(400, 256, num_layers=2, batch_first=True, dropout=0.5)\n",
      "  (dropout): Dropout(p=0.3, inplace=False)\n",
      "  (fc): Linear(in_features=256, out_features=1, bias=True)\n",
      "  (sig): Sigmoid()\n",
      "  (softmax): Softmax(dim=1)\n",
      ")\n",
      "SentimentLSTM(\n",
      "  (embedding): Embedding(37244, 400)\n",
      "  (lstm): LSTM(400, 256, num_layers=2, batch_first=True, dropout=0.5)\n",
      "  (dropout): Dropout(p=0.3, inplace=False)\n",
      "  (fc): Linear(in_features=256, out_features=3, bias=True)\n",
      "  (sig): Sigmoid()\n",
      "  (softmax): Softmax(dim=1)\n",
      ")\n"
     ]
    }
   ],
   "source": [
    "# Create the two models\n",
    "vocab_size_b = len(word_to_index_b)+1\n",
    "vocab_size_t = len(word_to_index_t)+1\n",
    "output_size_b = 1\n",
    "output_size_t = 3\n",
    "embedding_dim = 400\n",
    "hidden_dim = 256\n",
    "n_layers = 2\n",
    "net_b = SentimentLSTM(vocab_size_b, output_size_b, embedding_dim, hidden_dim)\n",
    "net_t = SentimentLSTM(vocab_size_t, output_size_t, embedding_dim, hidden_dim)\n",
    "print(net_b)\n",
    "print(net_t)"
   ]
  },
  {
   "cell_type": "code",
   "execution_count": 609,
   "metadata": {},
   "outputs": [
    {
     "name": "stdout",
     "output_type": "stream",
     "text": [
      "Epoch: 1/3... Step: 50... Accuracy: 0.700000... Loss: 0.584336... Val Accuracy: 0.695200... Val Loss: 0.577291\n",
      "Epoch: 1/3... Step: 100... Accuracy: 0.780000... Loss: 0.523264... Val Accuracy: 0.738200... Val Loss: 0.564808\n",
      "Epoch: 1/3... Step: 150... Accuracy: 0.640000... Loss: 0.595581... Val Accuracy: 0.658800... Val Loss: 0.605740\n",
      "Epoch: 2/3... Step: 200... Accuracy: 0.780000... Loss: 0.519354... Val Accuracy: 0.727200... Val Loss: 0.543015\n",
      "Epoch: 2/3... Step: 250... Accuracy: 0.780000... Loss: 0.413997... Val Accuracy: 0.752400... Val Loss: 0.516834\n",
      "Epoch: 2/3... Step: 300... Accuracy: 0.760000... Loss: 0.458491... Val Accuracy: 0.749600... Val Loss: 0.512030\n",
      "Epoch: 3/3... Step: 350... Accuracy: 0.960000... Loss: 0.225099... Val Accuracy: 0.775000... Val Loss: 0.490299\n",
      "Epoch: 3/3... Step: 400... Accuracy: 0.840000... Loss: 0.416420... Val Accuracy: 0.747600... Val Loss: 0.523260\n",
      "Epoch: 3/3... Step: 450... Accuracy: 0.880000... Loss: 0.285408... Val Accuracy: 0.779400... Val Loss: 0.490539\n"
     ]
    }
   ],
   "source": [
    "# TRAINING FOR BINARY SENTIMENT ANALYSIS\n",
    "\n",
    "# loss and optimization functions\n",
    "lr=1e-3\n",
    "loss_fn = nn.BCELoss()\n",
    "optimizer = torch.optim.Adam(net_b.parameters(), lr=lr)\n",
    "\n",
    "# training params\n",
    "epochs = 3\n",
    "counter = 0\n",
    "print_every = 50\n",
    "clip=5 # gradient clipping\n",
    "epoch_accuracies = []\n",
    "\n",
    "net_b.train()\n",
    "# train for some number of epochs\n",
    "for e in range(epochs):\n",
    "    # initialize hidden state\n",
    "    h = net_b.init_hidden(batch_size)\n",
    "    \n",
    "    epoch_correct = 0\n",
    "    epoch_total = 0\n",
    "\n",
    "    # batch loop\n",
    "    for inputs, labels in train_loader_b:\n",
    "        counter += 1\n",
    "        # copy hidden state\n",
    "        h = tuple([each.data for each in h])\n",
    "\n",
    "        # zero gradients\n",
    "        net_b.zero_grad()\n",
    "\n",
    "        # get predicted output\n",
    "        inputs = inputs.type(torch.LongTensor)\n",
    "        output, h = net_b(inputs, h)\n",
    "        \n",
    "        # calculate accuracy for this step\n",
    "        preds = torch.round(output.squeeze())\n",
    "        mask = preds[preds == labels]\n",
    "        train_correct = len(mask)\n",
    "        train_total = len(labels)\n",
    "        \n",
    "        epoch_correct += train_correct\n",
    "        epoch_total += train_total\n",
    "\n",
    "        # calculate loss and backprop\n",
    "        loss = loss_fn(output.squeeze(), labels.float())\n",
    "        loss.backward()\n",
    "\n",
    "        # prevent exploding gradient problem in LSTMs.\n",
    "        nn.utils.clip_grad_norm_(net_b.parameters(), clip)\n",
    "        optimizer.step()\n",
    "\n",
    "        # print stats\n",
    "        if counter % print_every == 0:\n",
    "            val_h = net_b.init_hidden(batch_size)\n",
    "            val_losses = []\n",
    "            net_b.eval()\n",
    "            val_correct = 0\n",
    "            val_total = 0\n",
    "            for inputs, labels in valid_loader_b:\n",
    "                val_h = tuple([each.data for each in val_h])\n",
    "\n",
    "                inputs = inputs.type(torch.LongTensor)\n",
    "                output, val_h = net_b(inputs, val_h)\n",
    "                \n",
    "                preds = torch.round(output.squeeze())\n",
    "                mask = preds[preds == labels]\n",
    "                val_correct += len(mask)\n",
    "                val_total += len(labels)\n",
    "                \n",
    "                val_loss = loss_fn(output.squeeze(), labels.float())\n",
    "                val_losses.append(val_loss.item())\n",
    "\n",
    "            net_b.train()\n",
    "            print(\"Epoch: {}/{}...\".format(e+1, epochs),\n",
    "                  \"Step: {}...\".format(counter),\n",
    "                  \"Accuracy: {:.6f}...\".format(float(train_correct)/train_total),\n",
    "                  \"Loss: {:.6f}...\".format(loss.item()),\n",
    "                  \"Val Accuracy: {:.6f}...\".format(float(val_correct) / val_total),\n",
    "                  \"Val Loss: {:.6f}\".format(np.mean(val_losses)))\n",
    "\n",
    "    epoch_accuracies.append(float(epoch_correct) / epoch_total)"
   ]
  },
  {
   "cell_type": "code",
   "execution_count": 610,
   "metadata": {
    "scrolled": true
   },
   "outputs": [
    {
     "name": "stdout",
     "output_type": "stream",
     "text": [
      "Test accuracy: 0.769\n"
     ]
    }
   ],
   "source": [
    "# test model\n",
    "num_correct = 0\n",
    "\n",
    "# init hidden state\n",
    "h = net_b.init_hidden(batch_size)\n",
    "\n",
    "net_b.eval()\n",
    "# iterate over test data\n",
    "for inputs, labels in test_loader_b:\n",
    "    h = tuple([each.data for each in h])\n",
    "\n",
    "    # get predicted outputs\n",
    "    inputs = inputs.type(torch.LongTensor)\n",
    "    output, h = net_b(inputs, h)\n",
    "\n",
    "    # get predicted class from output probabilities\n",
    "    preds = torch.round(output.squeeze())\n",
    "    mask = preds[preds == labels]\n",
    "    num_correct += len(mask)\n",
    "\n",
    "# test accuracy\n",
    "print(\"Test accuracy: {:.3f}\".format(float(num_correct)/len(test_loader_b.dataset)))"
   ]
  },
  {
   "cell_type": "code",
   "execution_count": 611,
   "metadata": {},
   "outputs": [
    {
     "name": "stdout",
     "output_type": "stream",
     "text": [
      "Epoch: 1/3... Step: 50... Accuracy: 0.480000... Loss: 1.025306... Val Accuracy: 0.534000... Val Loss: 0.987844\n",
      "Epoch: 1/3... Step: 100... Accuracy: 0.400000... Loss: 1.073568... Val Accuracy: 0.395200... Val Loss: 1.112575\n",
      "Epoch: 1/3... Step: 150... Accuracy: 0.380000... Loss: 1.104991... Val Accuracy: 0.406000... Val Loss: 1.088468\n",
      "Epoch: 2/3... Step: 200... Accuracy: 0.440000... Loss: 1.059408... Val Accuracy: 0.486200... Val Loss: 1.032503\n",
      "Epoch: 2/3... Step: 250... Accuracy: 0.620000... Loss: 0.970256... Val Accuracy: 0.503400... Val Loss: 1.023751\n",
      "Epoch: 2/3... Step: 300... Accuracy: 0.560000... Loss: 0.933551... Val Accuracy: 0.592400... Val Loss: 0.937244\n",
      "Epoch: 3/3... Step: 350... Accuracy: 0.720000... Loss: 0.812704... Val Accuracy: 0.627000... Val Loss: 0.907556\n",
      "Epoch: 3/3... Step: 400... Accuracy: 0.700000... Loss: 0.816624... Val Accuracy: 0.615200... Val Loss: 0.921896\n",
      "Epoch: 3/3... Step: 450... Accuracy: 0.620000... Loss: 0.913079... Val Accuracy: 0.611600... Val Loss: 0.917378\n"
     ]
    }
   ],
   "source": [
    "# TRAINING FOR TERNARY SENTIMENT ANALYSIS\n",
    "\n",
    "# loss and optimization functions\n",
    "lr=1e-3\n",
    "# loss_fn = nn.BCELoss()\n",
    "loss_fn = nn.CrossEntropyLoss()\n",
    "optimizer = torch.optim.Adam(net_t.parameters(), lr=lr)\n",
    "\n",
    "# training params\n",
    "epochs = 3\n",
    "counter = 0\n",
    "print_every = 50\n",
    "clip=5 # gradient clipping\n",
    "epoch_accuracies = []\n",
    "\n",
    "net_t.train()\n",
    "# train for some number of epochs\n",
    "for e in range(epochs):\n",
    "    # initialize hidden state\n",
    "    h = net_t.init_hidden(batch_size)\n",
    "    \n",
    "    epoch_correct = 0\n",
    "    epoch_total = 0\n",
    "\n",
    "    # batch loop\n",
    "    for inputs, labels in train_loader_t:\n",
    "        counter += 1\n",
    "        # copy hidden state\n",
    "        h = tuple([each.data for each in h])\n",
    "\n",
    "        # zero gradients\n",
    "        net_t.zero_grad()\n",
    "\n",
    "        # get predicted output\n",
    "        inputs = inputs.type(torch.LongTensor)\n",
    "        output, h = net_t(inputs, h)\n",
    "        preds = torch.argmax(output, dim=1)\n",
    "        \n",
    "        # calculate accuracy for this step\n",
    "        preds = torch.argmax(output, dim=1)\n",
    "        mask = preds[preds == labels]\n",
    "        train_correct = len(mask)\n",
    "        train_total = len(labels)\n",
    "        \n",
    "        epoch_correct += train_correct\n",
    "        epoch_total += train_total\n",
    "\n",
    "        # calculate loss and backprop\n",
    "        loss = loss_fn(output, labels)\n",
    "        loss.backward()\n",
    "\n",
    "        # prevent exploding gradient problem in LSTMs.\n",
    "        nn.utils.clip_grad_norm_(net_t.parameters(), clip)\n",
    "        optimizer.step()\n",
    "\n",
    "        # print stats\n",
    "        if counter % print_every == 0:\n",
    "            val_h = net_t.init_hidden(batch_size)\n",
    "            val_losses = []\n",
    "            net_t.eval()\n",
    "            val_correct = 0\n",
    "            val_total = 0\n",
    "            for inputs, labels in valid_loader_t:\n",
    "                val_h = tuple([each.data for each in val_h])\n",
    "\n",
    "                inputs = inputs.type(torch.LongTensor)\n",
    "                output, val_h = net_t(inputs, val_h)\n",
    "                \n",
    "                preds = torch.argmax(output, dim=1)\n",
    "                mask = preds[preds == labels]\n",
    "                val_correct += len(mask)\n",
    "                val_total += len(labels)\n",
    "                \n",
    "                val_loss = loss_fn(output, labels)\n",
    "                val_losses.append(val_loss.item())\n",
    "\n",
    "            net_t.train()\n",
    "            print(\"Epoch: {}/{}...\".format(e+1, epochs),\n",
    "                  \"Step: {}...\".format(counter),\n",
    "                  \"Accuracy: {:.6f}...\".format(float(train_correct)/train_total),\n",
    "                  \"Loss: {:.6f}...\".format(loss.item()),\n",
    "                  \"Val Accuracy: {:.6f}...\".format(float(val_correct) / val_total),\n",
    "                  \"Val Loss: {:.6f}\".format(np.mean(val_losses)))\n",
    "\n",
    "    epoch_accuracies.append(float(epoch_correct) / epoch_total)"
   ]
  },
  {
   "cell_type": "code",
   "execution_count": 616,
   "metadata": {},
   "outputs": [
    {
     "name": "stdout",
     "output_type": "stream",
     "text": [
      "Epoch #1 Accuracy: 39.712%\n",
      "Epoch #2 Accuracy: 53.312%\n",
      "Epoch #3 Accuracy: 66.200%\n"
     ]
    }
   ],
   "source": [
    "for i in range(len(epoch_accuracies)):\n",
    "    print(\"Epoch #{} Accuracy: {:.3f}%\".format(i + 1, epoch_accuracies[i] * 100))"
   ]
  },
  {
   "cell_type": "code",
   "execution_count": 612,
   "metadata": {},
   "outputs": [
    {
     "name": "stdout",
     "output_type": "stream",
     "text": [
      "Test accuracy: 0.647\n"
     ]
    }
   ],
   "source": [
    "# test model\n",
    "num_correct = 0\n",
    "\n",
    "# init hidden state\n",
    "h = net_t.init_hidden(batch_size)\n",
    "\n",
    "net_t.eval()\n",
    "# iterate over test data\n",
    "for inputs, labels in test_loader_t:\n",
    "    h = tuple([each.data for each in h])\n",
    "\n",
    "    # get predicted outputs\n",
    "    inputs = inputs.type(torch.LongTensor)\n",
    "    output, h = net_t(inputs, h)\n",
    "\n",
    "    # get predicted class from output probabilities\n",
    "    preds = torch.argmax(output, dim=1)\n",
    "    mask = preds[preds == labels]\n",
    "    num_correct += len(mask)\n",
    "\n",
    "# test accuracy\n",
    "print(\"Test accuracy: {:.3f}\".format(float(num_correct)/len(test_loader_b.dataset)))"
   ]
  },
  {
   "cell_type": "code",
   "execution_count": 395,
   "metadata": {},
   "outputs": [],
   "source": [
    "abvs = df_full['abv'].values.tolist()\n",
    "styles = df_full['style'].values.tolist()\n",
    "ratings = df_full['overall'].values.tolist()\n",
    "taste_ratings = df_full['taste'].values.tolist()\n",
    "times = df_full['review/time'].values.tolist()\n",
    "reviewers = df_full['review/profileName'].values.tolist()"
   ]
  },
  {
   "cell_type": "code",
   "execution_count": 396,
   "metadata": {},
   "outputs": [
    {
     "data": {
      "text/plain": [
       "<matplotlib.colorbar.Colorbar at 0x7f8ed96d4450>"
      ]
     },
     "execution_count": 396,
     "metadata": {},
     "output_type": "execute_result"
    },
    {
     "data": {
      "image/png": "[encoded data removed]",
      "text/plain": [
       "<Figure size 432x288 with 2 Axes>"
      ]
     },
     "metadata": {
      "needs_background": "light"
     },
     "output_type": "display_data"
    }
   ],
   "source": [
    "plt.scatter(abvs, styles, c=ratings)\n",
    "plt.colorbar()"
   ]
  },
  {
   "cell_type": "code",
   "execution_count": 397,
   "metadata": {},
   "outputs": [],
   "source": [
    "reviewers_unique = df_full['review/profileName'].unique()"
   ]
  },
  {
   "cell_type": "code",
   "execution_count": 398,
   "metadata": {},
   "outputs": [],
   "source": [
    "min_times = {}\n",
    "max_times = {}\n",
    "\n",
    "for i in range(len(times)):\n",
    "    name = reviewers[i]\n",
    "    time = times[i]\n",
    "    if not name in min_times:\n",
    "        min_times[name] = time\n",
    "    if not name in max_times:\n",
    "        max_times[name] = time\n",
    "    min_times[name] = min(time, min_times[name])\n",
    "    max_times[name] = max(time, max_times[name])"
   ]
  },
  {
   "cell_type": "code",
   "execution_count": 399,
   "metadata": {},
   "outputs": [],
   "source": [
    "experience = []\n",
    "for i in range(len(times)):\n",
    "    experience.append((times[i] - min_times[reviewers[i]]) / (60 * 60 * 24))"
   ]
  },
  {
   "cell_type": "code",
   "execution_count": 400,
   "metadata": {},
   "outputs": [
    {
     "data": {
      "image/png": "[encoded data removed]",
      "text/plain": [
       "<Figure size 432x288 with 2 Axes>"
      ]
     },
     "metadata": {
      "needs_background": "light"
     },
     "output_type": "display_data"
    },
    {
     "data": {
      "image/png": "[encoded data removed]",
      "text/plain": [
       "<Figure size 432x288 with 2 Axes>"
      ]
     },
     "metadata": {
      "needs_background": "light"
     },
     "output_type": "display_data"
    }
   ],
   "source": [
    "plt.scatter(abvs, experience, c=ratings)\n",
    "plt.colorbar()\n",
    "plt.show()\n",
    "\n",
    "plt.scatter(abvs, experience, c=taste_ratings)\n",
    "plt.colorbar()\n",
    "plt.show()"
   ]
  },
  {
   "cell_type": "code",
   "execution_count": null,
   "metadata": {},
   "outputs": [],
   "source": []
  }
 ],
 "metadata": {
  "kernelspec": {
   "display_name": "Python 3",
   "language": "python",
   "name": "python3"
  },
  "language_info": {
   "codemirror_mode": {
    "name": "ipython",
    "version": 3
   },
   "file_extension": ".py",
   "mimetype": "text/x-python",
   "name": "python",
   "nbconvert_exporter": "python",
   "pygments_lexer": "ipython3",
   "version": "3.7.4"
  }
 },
 "nbformat": 4,
 "nbformat_minor": 2
}
